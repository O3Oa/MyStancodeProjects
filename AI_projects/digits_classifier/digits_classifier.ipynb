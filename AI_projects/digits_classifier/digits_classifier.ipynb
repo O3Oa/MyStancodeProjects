{
  "cells": [
    {
      "cell_type": "markdown",
      "metadata": {
        "id": "view-in-github",
        "colab_type": "text"
      },
      "source": [
        "<a href=\"https://colab.research.google.com/github/O3Oa/MyStancodeProjects/blob/main/AI_projects/digits_classifier/digits_classifier.ipynb\" target=\"_parent\"><img src=\"https://colab.research.google.com/assets/colab-badge.svg\" alt=\"Open In Colab\"/></a>"
      ]
    },
    {
      "cell_type": "code",
      "execution_count": null,
      "metadata": {
        "colab": {
          "base_uri": "https://localhost:8080/"
        },
        "id": "DEsRCQlz-5Cx",
        "outputId": "f86930df-85e6-4f19-9391-b5cdf8ebca8e",
        "pycharm": {
          "is_executing": true
        }
      },
      "outputs": [
        {
          "output_type": "stream",
          "name": "stdout",
          "text": [
            "Mounted at /content/drive\n",
            "/content/drive/MyDrive/Colab Notebooks/AI_projects/digits_classifier\n"
          ]
        }
      ],
      "source": [
        "# Mount to Google Drive\n",
        "from google.colab import drive\n",
        "drive.mount('/content/drive', force_remount=True)\n",
        "\n",
        "# Define Project Folder\n",
        "FOLDERNAME = 'Colab\\ Notebooks/AI_projects/digits_classifier'\n",
        "\n",
        "%cd drive/MyDrive/$FOLDERNAME"
      ]
    },
    {
      "cell_type": "markdown",
      "source": [
        "# 新增區段"
      ],
      "metadata": {
        "id": "UkdCQ3Oe0tGm"
      }
    },
    {
      "cell_type": "code",
      "source": [
        "from google.colab import drive\n",
        "drive.mount('/content/drive')"
      ],
      "metadata": {
        "id": "l70ieShZ0tzz"
      },
      "execution_count": null,
      "outputs": []
    },
    {
      "cell_type": "code",
      "execution_count": null,
      "metadata": {
        "colab": {
          "base_uri": "https://localhost:8080/"
        },
        "id": "pUvgKcdC_PlB",
        "outputId": "702d457f-ec7c-4bac-f549-08d240f85120",
        "pycharm": {
          "is_executing": true
        }
      },
      "outputs": [
        {
          "output_type": "stream",
          "name": "stdout",
          "text": [
            "Device: cuda\n"
          ]
        }
      ],
      "source": [
        "# Define device\n",
        "import torch\n",
        "if torch.cuda.is_available():\n",
        "  device = torch.device('cuda')\n",
        "else:\n",
        "  device = torch.device('cpu')\n",
        "print('Device:', device)"
      ]
    },
    {
      "cell_type": "code",
      "execution_count": null,
      "metadata": {
        "id": "5WXam8AA_bXa"
      },
      "outputs": [],
      "source": [
        "# Import dataset\n",
        "import torchvision.datasets as dset\n",
        "import torchvision.transforms as T\n"
      ]
    },
    {
      "cell_type": "code",
      "source": [
        "# Show data image\n",
        "train_data = dset.MNIST(root='./train', train=True, download=True)\n",
        "train_data[0][0]"
      ],
      "metadata": {
        "colab": {
          "base_uri": "https://localhost:8080/",
          "height": 45
        },
        "id": "4aqJEX0GyjPZ",
        "outputId": "0eaed5b9-9993-4ace-f680-8a529b66d29c"
      },
      "execution_count": null,
      "outputs": [
        {
          "output_type": "execute_result",
          "data": {
            "text/plain": [
              "<PIL.Image.Image image mode=L size=28x28>"
            ],
            "image/png": "[encoded data removed]"
          },
          "metadata": {},
          "execution_count": 5
        }
      ]
    },
    {
      "cell_type": "code",
      "source": [
        "# Load Existing Dataset\n",
        "train_data = dset.MNIST(root='./train', train=True, download=True, transform=T.ToTensor())\n",
        "val_data = dset.MNIST(root='./val', train=False, download=True, transform=T.ToTensor())"
      ],
      "metadata": {
        "id": "jYz891bPy6-N"
      },
      "execution_count": null,
      "outputs": []
    },
    {
      "cell_type": "code",
      "execution_count": null,
      "metadata": {
        "colab": {
          "base_uri": "https://localhost:8080/"
        },
        "id": "BUYRd7bfKy7N",
        "outputId": "87f5af8e-1ecf-42eb-ba40-e020efb5b5fd",
        "pycharm": {
          "is_executing": true
        }
      },
      "outputs": [
        {
          "output_type": "stream",
          "name": "stdout",
          "text": [
            "Dataset MNIST\n",
            "    Number of datapoints: 60000\n",
            "    Root location: ./train\n",
            "    Split: Train\n",
            "    StandardTransform\n",
            "Transform: ToTensor()\n",
            "Dataset MNIST\n",
            "    Number of datapoints: 10000\n",
            "    Root location: ./val\n",
            "    Split: Test\n",
            "    StandardTransform\n",
            "Transform: ToTensor()\n"
          ]
        }
      ],
      "source": [
        "# Check Data Dimension\n",
        "print(train_data)\n",
        "print(val_data)"
      ]
    },
    {
      "cell_type": "code",
      "source": [
        "# Check processed input\n",
        "train_data[0][0]"
      ],
      "metadata": {
        "colab": {
          "base_uri": "https://localhost:8080/"
        },
        "id": "c94WHS23xVEB",
        "outputId": "c9fc3e6e-1c46-4ac7-b29d-44730f03b621"
      },
      "execution_count": null,
      "outputs": [
        {
          "output_type": "execute_result",
          "data": {
            "text/plain": [
              "tensor([[[0.0000, 0.0000, 0.0000, 0.0000, 0.0000, 0.0000, 0.0000, 0.0000,\n",
              "          0.0000, 0.0000, 0.0000, 0.0000, 0.0000, 0.0000, 0.0000, 0.0000,\n",
              "          0.0000, 0.0000, 0.0000, 0.0000, 0.0000, 0.0000, 0.0000, 0.0000,\n",
              "          0.0000, 0.0000, 0.0000, 0.0000],\n",
              "         [0.0000, 0.0000, 0.0000, 0.0000, 0.0000, 0.0000, 0.0000, 0.0000,\n",
              "          0.0000, 0.0000, 0.0000, 0.0000, 0.0000, 0.0000, 0.0000, 0.0000,\n",
              "          0.0000, 0.0000, 0.0000, 0.0000, 0.0000, 0.0000, 0.0000, 0.0000,\n",
              "          0.0000, 0.0000, 0.0000, 0.0000],\n",
              "         [0.0000, 0.0000, 0.0000, 0.0000, 0.0000, 0.0000, 0.0000, 0.0000,\n",
              "          0.0000, 0.0000, 0.0000, 0.0000, 0.0000, 0.0000, 0.0000, 0.0000,\n",
              "          0.0000, 0.0000, 0.0000, 0.0000, 0.0000, 0.0000, 0.0000, 0.0000,\n",
              "          0.0000, 0.0000, 0.0000, 0.0000],\n",
              "         [0.0000, 0.0000, 0.0000, 0.0000, 0.0000, 0.0000, 0.0000, 0.0000,\n",
              "          0.0000, 0.0000, 0.0000, 0.0000, 0.0000, 0.0000, 0.0000, 0.0000,\n",
              "          0.0000, 0.0000, 0.0000, 0.0000, 0.0000, 0.0000, 0.0000, 0.0000,\n",
              "          0.0000, 0.0000, 0.0000, 0.0000],\n",
              "         [0.0000, 0.0000, 0.0000, 0.0000, 0.0000, 0.0000, 0.0000, 0.0000,\n",
              "          0.0000, 0.0000, 0.0000, 0.0000, 0.0000, 0.0000, 0.0000, 0.0000,\n",
              "          0.0000, 0.0000, 0.0000, 0.0000, 0.0000, 0.0000, 0.0000, 0.0000,\n",
              "          0.0000, 0.0000, 0.0000, 0.0000],\n",
              "         [0.0000, 0.0000, 0.0000, 0.0000, 0.0000, 0.0000, 0.0000, 0.0000,\n",
              "          0.0000, 0.0000, 0.0000, 0.0000, 0.0118, 0.0706, 0.0706, 0.0706,\n",
              "          0.4941, 0.5333, 0.6863, 0.1020, 0.6510, 1.0000, 0.9686, 0.4980,\n",
              "          0.0000, 0.0000, 0.0000, 0.0000],\n",
              "         [0.0000, 0.0000, 0.0000, 0.0000, 0.0000, 0.0000, 0.0000, 0.0000,\n",
              "          0.1176, 0.1412, 0.3686, 0.6039, 0.6667, 0.9922, 0.9922, 0.9922,\n",
              "          0.9922, 0.9922, 0.8824, 0.6745, 0.9922, 0.9490, 0.7647, 0.2510,\n",
              "          0.0000, 0.0000, 0.0000, 0.0000],\n",
              "         [0.0000, 0.0000, 0.0000, 0.0000, 0.0000, 0.0000, 0.0000, 0.1922,\n",
              "          0.9333, 0.9922, 0.9922, 0.9922, 0.9922, 0.9922, 0.9922, 0.9922,\n",
              "          0.9922, 0.9843, 0.3647, 0.3216, 0.3216, 0.2196, 0.1529, 0.0000,\n",
              "          0.0000, 0.0000, 0.0000, 0.0000],\n",
              "         [0.0000, 0.0000, 0.0000, 0.0000, 0.0000, 0.0000, 0.0000, 0.0706,\n",
              "          0.8588, 0.9922, 0.9922, 0.9922, 0.9922, 0.9922, 0.7765, 0.7137,\n",
              "          0.9686, 0.9451, 0.0000, 0.0000, 0.0000, 0.0000, 0.0000, 0.0000,\n",
              "          0.0000, 0.0000, 0.0000, 0.0000],\n",
              "         [0.0000, 0.0000, 0.0000, 0.0000, 0.0000, 0.0000, 0.0000, 0.0000,\n",
              "          0.3137, 0.6118, 0.4196, 0.9922, 0.9922, 0.8039, 0.0431, 0.0000,\n",
              "          0.1686, 0.6039, 0.0000, 0.0000, 0.0000, 0.0000, 0.0000, 0.0000,\n",
              "          0.0000, 0.0000, 0.0000, 0.0000],\n",
              "         [0.0000, 0.0000, 0.0000, 0.0000, 0.0000, 0.0000, 0.0000, 0.0000,\n",
              "          0.0000, 0.0549, 0.0039, 0.6039, 0.9922, 0.3529, 0.0000, 0.0000,\n",
              "          0.0000, 0.0000, 0.0000, 0.0000, 0.0000, 0.0000, 0.0000, 0.0000,\n",
              "          0.0000, 0.0000, 0.0000, 0.0000],\n",
              "         [0.0000, 0.0000, 0.0000, 0.0000, 0.0000, 0.0000, 0.0000, 0.0000,\n",
              "          0.0000, 0.0000, 0.0000, 0.5451, 0.9922, 0.7451, 0.0078, 0.0000,\n",
              "          0.0000, 0.0000, 0.0000, 0.0000, 0.0000, 0.0000, 0.0000, 0.0000,\n",
              "          0.0000, 0.0000, 0.0000, 0.0000],\n",
              "         [0.0000, 0.0000, 0.0000, 0.0000, 0.0000, 0.0000, 0.0000, 0.0000,\n",
              "          0.0000, 0.0000, 0.0000, 0.0431, 0.7451, 0.9922, 0.2745, 0.0000,\n",
              "          0.0000, 0.0000, 0.0000, 0.0000, 0.0000, 0.0000, 0.0000, 0.0000,\n",
              "          0.0000, 0.0000, 0.0000, 0.0000],\n",
              "         [0.0000, 0.0000, 0.0000, 0.0000, 0.0000, 0.0000, 0.0000, 0.0000,\n",
              "          0.0000, 0.0000, 0.0000, 0.0000, 0.1373, 0.9451, 0.8824, 0.6275,\n",
              "          0.4235, 0.0039, 0.0000, 0.0000, 0.0000, 0.0000, 0.0000, 0.0000,\n",
              "          0.0000, 0.0000, 0.0000, 0.0000],\n",
              "         [0.0000, 0.0000, 0.0000, 0.0000, 0.0000, 0.0000, 0.0000, 0.0000,\n",
              "          0.0000, 0.0000, 0.0000, 0.0000, 0.0000, 0.3176, 0.9412, 0.9922,\n",
              "          0.9922, 0.4667, 0.0980, 0.0000, 0.0000, 0.0000, 0.0000, 0.0000,\n",
              "          0.0000, 0.0000, 0.0000, 0.0000],\n",
              "         [0.0000, 0.0000, 0.0000, 0.0000, 0.0000, 0.0000, 0.0000, 0.0000,\n",
              "          0.0000, 0.0000, 0.0000, 0.0000, 0.0000, 0.0000, 0.1765, 0.7294,\n",
              "          0.9922, 0.9922, 0.5882, 0.1059, 0.0000, 0.0000, 0.0000, 0.0000,\n",
              "          0.0000, 0.0000, 0.0000, 0.0000],\n",
              "         [0.0000, 0.0000, 0.0000, 0.0000, 0.0000, 0.0000, 0.0000, 0.0000,\n",
              "          0.0000, 0.0000, 0.0000, 0.0000, 0.0000, 0.0000, 0.0000, 0.0627,\n",
              "          0.3647, 0.9882, 0.9922, 0.7333, 0.0000, 0.0000, 0.0000, 0.0000,\n",
              "          0.0000, 0.0000, 0.0000, 0.0000],\n",
              "         [0.0000, 0.0000, 0.0000, 0.0000, 0.0000, 0.0000, 0.0000, 0.0000,\n",
              "          0.0000, 0.0000, 0.0000, 0.0000, 0.0000, 0.0000, 0.0000, 0.0000,\n",
              "          0.0000, 0.9765, 0.9922, 0.9765, 0.2510, 0.0000, 0.0000, 0.0000,\n",
              "          0.0000, 0.0000, 0.0000, 0.0000],\n",
              "         [0.0000, 0.0000, 0.0000, 0.0000, 0.0000, 0.0000, 0.0000, 0.0000,\n",
              "          0.0000, 0.0000, 0.0000, 0.0000, 0.0000, 0.0000, 0.1804, 0.5098,\n",
              "          0.7176, 0.9922, 0.9922, 0.8118, 0.0078, 0.0000, 0.0000, 0.0000,\n",
              "          0.0000, 0.0000, 0.0000, 0.0000],\n",
              "         [0.0000, 0.0000, 0.0000, 0.0000, 0.0000, 0.0000, 0.0000, 0.0000,\n",
              "          0.0000, 0.0000, 0.0000, 0.0000, 0.1529, 0.5804, 0.8980, 0.9922,\n",
              "          0.9922, 0.9922, 0.9804, 0.7137, 0.0000, 0.0000, 0.0000, 0.0000,\n",
              "          0.0000, 0.0000, 0.0000, 0.0000],\n",
              "         [0.0000, 0.0000, 0.0000, 0.0000, 0.0000, 0.0000, 0.0000, 0.0000,\n",
              "          0.0000, 0.0000, 0.0941, 0.4471, 0.8667, 0.9922, 0.9922, 0.9922,\n",
              "          0.9922, 0.7882, 0.3059, 0.0000, 0.0000, 0.0000, 0.0000, 0.0000,\n",
              "          0.0000, 0.0000, 0.0000, 0.0000],\n",
              "         [0.0000, 0.0000, 0.0000, 0.0000, 0.0000, 0.0000, 0.0000, 0.0000,\n",
              "          0.0902, 0.2588, 0.8353, 0.9922, 0.9922, 0.9922, 0.9922, 0.7765,\n",
              "          0.3176, 0.0078, 0.0000, 0.0000, 0.0000, 0.0000, 0.0000, 0.0000,\n",
              "          0.0000, 0.0000, 0.0000, 0.0000],\n",
              "         [0.0000, 0.0000, 0.0000, 0.0000, 0.0000, 0.0000, 0.0706, 0.6706,\n",
              "          0.8588, 0.9922, 0.9922, 0.9922, 0.9922, 0.7647, 0.3137, 0.0353,\n",
              "          0.0000, 0.0000, 0.0000, 0.0000, 0.0000, 0.0000, 0.0000, 0.0000,\n",
              "          0.0000, 0.0000, 0.0000, 0.0000],\n",
              "         [0.0000, 0.0000, 0.0000, 0.0000, 0.2157, 0.6745, 0.8863, 0.9922,\n",
              "          0.9922, 0.9922, 0.9922, 0.9569, 0.5216, 0.0431, 0.0000, 0.0000,\n",
              "          0.0000, 0.0000, 0.0000, 0.0000, 0.0000, 0.0000, 0.0000, 0.0000,\n",
              "          0.0000, 0.0000, 0.0000, 0.0000],\n",
              "         [0.0000, 0.0000, 0.0000, 0.0000, 0.5333, 0.9922, 0.9922, 0.9922,\n",
              "          0.8314, 0.5294, 0.5176, 0.0627, 0.0000, 0.0000, 0.0000, 0.0000,\n",
              "          0.0000, 0.0000, 0.0000, 0.0000, 0.0000, 0.0000, 0.0000, 0.0000,\n",
              "          0.0000, 0.0000, 0.0000, 0.0000],\n",
              "         [0.0000, 0.0000, 0.0000, 0.0000, 0.0000, 0.0000, 0.0000, 0.0000,\n",
              "          0.0000, 0.0000, 0.0000, 0.0000, 0.0000, 0.0000, 0.0000, 0.0000,\n",
              "          0.0000, 0.0000, 0.0000, 0.0000, 0.0000, 0.0000, 0.0000, 0.0000,\n",
              "          0.0000, 0.0000, 0.0000, 0.0000],\n",
              "         [0.0000, 0.0000, 0.0000, 0.0000, 0.0000, 0.0000, 0.0000, 0.0000,\n",
              "          0.0000, 0.0000, 0.0000, 0.0000, 0.0000, 0.0000, 0.0000, 0.0000,\n",
              "          0.0000, 0.0000, 0.0000, 0.0000, 0.0000, 0.0000, 0.0000, 0.0000,\n",
              "          0.0000, 0.0000, 0.0000, 0.0000],\n",
              "         [0.0000, 0.0000, 0.0000, 0.0000, 0.0000, 0.0000, 0.0000, 0.0000,\n",
              "          0.0000, 0.0000, 0.0000, 0.0000, 0.0000, 0.0000, 0.0000, 0.0000,\n",
              "          0.0000, 0.0000, 0.0000, 0.0000, 0.0000, 0.0000, 0.0000, 0.0000,\n",
              "          0.0000, 0.0000, 0.0000, 0.0000]]])"
            ]
          },
          "metadata": {},
          "execution_count": 9
        }
      ]
    },
    {
      "cell_type": "code",
      "execution_count": null,
      "metadata": {
        "colab": {
          "base_uri": "https://localhost:8080/"
        },
        "id": "KB8ZyWY5EQTS",
        "outputId": "b6540312-2d98-444b-f779-dd1e3190c3a1",
        "pycharm": {
          "is_executing": true
        }
      },
      "outputs": [
        {
          "output_type": "stream",
          "name": "stdout",
          "text": [
            "Number of training: 60000\n",
            "Number of validation: 10000\n"
          ]
        }
      ],
      "source": [
        "num_train = len(train_data)\n",
        "num_val = len(val_data)\n",
        "print('Number of training:', num_train)\n",
        "print('Number of validation:', num_val)"
      ]
    },
    {
      "cell_type": "markdown",
      "source": [
        "Basic CNN model\n",
        "accuracy: 96%\n"
      ],
      "metadata": {
        "id": "PAZCVThyjtPI"
      }
    },
    {
      "cell_type": "code",
      "source": [
        "# Build Model 1\n",
        "import torch.nn as nn\n",
        "model = nn.Sequential(\n",
        "        # N x 1 x 28 x 28\n",
        "        nn.Conv2d(1, 64, 3, 1, 1),\n",
        "        nn.BatchNorm2d(64),\n",
        "        nn.ReLU(),\n",
        "        nn.MaxPool2d(2, 2),\n",
        "        # N x 64 x 14 x 14\n",
        "        nn.Flatten(),\n",
        "        nn.Linear(64*14*14, 10)\n",
        "        )\n"
      ],
      "metadata": {
        "id": "jO_-Q7NajcQm"
      },
      "execution_count": null,
      "outputs": []
    },
    {
      "cell_type": "code",
      "execution_count": null,
      "metadata": {
        "pycharm": {
          "is_executing": true
        },
        "id": "3duZjVMvj86i"
      },
      "outputs": [],
      "source": [
        "# Move model to GPU\n",
        "model = model.cuda()"
      ]
    },
    {
      "cell_type": "code",
      "execution_count": null,
      "metadata": {
        "id": "oXeuC84lj86j"
      },
      "outputs": [],
      "source": [
        "# Create Mini-batches\n",
        "from torch.utils.data import DataLoader\n",
        "mini_trains = DataLoader(train_data, batch_size=128, shuffle=True)\n",
        "mini_vals = DataLoader(val_data, batch_size=128, shuffle=True)"
      ]
    },
    {
      "cell_type": "code",
      "execution_count": null,
      "metadata": {
        "id": "umaKPAZXj86j"
      },
      "outputs": [],
      "source": [
        "# Training Procedure\n",
        "def train(num_epoch, model, mini_trains, mini_vals, device, loss_function, optimizer):\n",
        "  for epoch in range(num_epoch):\n",
        "    num_iters = 0\n",
        "    for x, y in mini_trains:\n",
        "      model.train()\n",
        "      x = x.to(device)\n",
        "      y = y.to(device)\n",
        "      # x = x.squeeze()\n",
        "      scores = model(x)\n",
        "      loss = loss_function(scores, y)\n",
        "      optimizer.zero_grad()\n",
        "      loss.backward()\n",
        "      optimizer.step()\n",
        "      if num_iters % 10 == 0:\n",
        "        evaluate_predictor(model, epoch, mini_vals, device)\n",
        "      num_iters += 1"
      ]
    },
    {
      "cell_type": "code",
      "execution_count": null,
      "metadata": {
        "id": "-o1yJkboj86j"
      },
      "outputs": [],
      "source": [
        "# Validating Procedure\n",
        "def evaluate_predictor(model, epoch, mini_vals, device):\n",
        "  model.eval()\n",
        "  with torch.no_grad():\n",
        "    acc_count = 0\n",
        "    for x, y in mini_vals:\n",
        "      x = x.to(device)\n",
        "      y = y.to(device)\n",
        "      # x = x.squeeze()\n",
        "      scores=model(x)\n",
        "      predictions=scores.max(1)[1]\n",
        "      acc = predictions.eq(y).sum().item()\n",
        "      acc_count += acc\n",
        "    print(f'Epoch[{epoch+1}] Acc: {acc_count/num_val}')"
      ]
    },
    {
      "cell_type": "code",
      "execution_count": null,
      "metadata": {
        "id": "de7OWvrBj86j"
      },
      "outputs": [],
      "source": [
        "# Define loss function & optimizer\n",
        "import torch.optim as optim\n",
        "loss_function = nn.CrossEntropyLoss()\n",
        "optimizer = optim.Adam(model.parameters(), lr=1e-3)"
      ]
    },
    {
      "cell_type": "code",
      "execution_count": null,
      "metadata": {
        "colab": {
          "base_uri": "https://localhost:8080/"
        },
        "outputId": "b1bf36a9-24db-44b9-f9eb-9765e92136d2",
        "pycharm": {
          "is_executing": true
        },
        "id": "17Re9Hraj86k"
      },
      "outputs": [
        {
          "output_type": "stream",
          "name": "stdout",
          "text": [
            "Epoch[1] Acc: 0.1506\n",
            "Epoch[1] Acc: 0.7281\n",
            "Epoch[1] Acc: 0.8383\n",
            "Epoch[1] Acc: 0.8926\n",
            "Epoch[1] Acc: 0.9009\n",
            "Epoch[1] Acc: 0.9209\n",
            "Epoch[1] Acc: 0.934\n",
            "Epoch[1] Acc: 0.9326\n",
            "Epoch[1] Acc: 0.9381\n",
            "Epoch[1] Acc: 0.9347\n",
            "Epoch[1] Acc: 0.9439\n",
            "Epoch[1] Acc: 0.9522\n",
            "Epoch[1] Acc: 0.9472\n",
            "Epoch[1] Acc: 0.9555\n",
            "Epoch[1] Acc: 0.9578\n",
            "Epoch[1] Acc: 0.9551\n",
            "Epoch[1] Acc: 0.953\n",
            "Epoch[1] Acc: 0.9577\n",
            "Epoch[1] Acc: 0.9509\n",
            "Epoch[1] Acc: 0.95\n",
            "Epoch[1] Acc: 0.9604\n",
            "Epoch[1] Acc: 0.9632\n",
            "Epoch[1] Acc: 0.9581\n",
            "Epoch[1] Acc: 0.9628\n",
            "Epoch[1] Acc: 0.9661\n",
            "Epoch[1] Acc: 0.9667\n",
            "Epoch[1] Acc: 0.9667\n",
            "Epoch[1] Acc: 0.9658\n",
            "Epoch[1] Acc: 0.9617\n",
            "Epoch[1] Acc: 0.9621\n",
            "Epoch[1] Acc: 0.9621\n",
            "Epoch[1] Acc: 0.9666\n",
            "Epoch[1] Acc: 0.9619\n",
            "Epoch[1] Acc: 0.968\n",
            "Epoch[1] Acc: 0.9642\n",
            "Epoch[1] Acc: 0.9692\n",
            "Epoch[1] Acc: 0.9556\n",
            "Epoch[1] Acc: 0.9686\n",
            "Epoch[1] Acc: 0.9593\n",
            "Epoch[1] Acc: 0.9693\n",
            "Epoch[1] Acc: 0.9684\n",
            "Epoch[1] Acc: 0.9675\n",
            "Epoch[1] Acc: 0.9702\n",
            "Epoch[1] Acc: 0.9684\n",
            "Epoch[1] Acc: 0.9729\n",
            "Epoch[1] Acc: 0.9704\n",
            "Epoch[1] Acc: 0.9628\n"
          ]
        }
      ],
      "source": [
        "# Start training\n",
        "train(1, model, mini_trains, mini_vals, device, loss_function, optimizer)"
      ]
    },
    {
      "cell_type": "code",
      "source": [
        "x = torch.zeros([128,1,28,28]).cuda()\n",
        "model(x)"
      ],
      "metadata": {
        "colab": {
          "base_uri": "https://localhost:8080/"
        },
        "id": "hI8HZSV4uQ03",
        "outputId": "ed38f177-9153-43d0-f80d-6de5c5c095d2"
      },
      "execution_count": null,
      "outputs": [
        {
          "output_type": "execute_result",
          "data": {
            "text/plain": [
              "tensor([[ 0.0044,  0.0121, -0.0016,  ...,  0.0112, -0.0097,  0.0050],\n",
              "        [ 0.0044,  0.0121, -0.0016,  ...,  0.0112, -0.0097,  0.0050],\n",
              "        [ 0.0044,  0.0121, -0.0016,  ...,  0.0112, -0.0097,  0.0050],\n",
              "        ...,\n",
              "        [ 0.0044,  0.0121, -0.0016,  ...,  0.0112, -0.0097,  0.0050],\n",
              "        [ 0.0044,  0.0121, -0.0016,  ...,  0.0112, -0.0097,  0.0050],\n",
              "        [ 0.0044,  0.0121, -0.0016,  ...,  0.0112, -0.0097,  0.0050]],\n",
              "       device='cuda:0', grad_fn=<AddmmBackward0>)"
            ]
          },
          "metadata": {},
          "execution_count": 15
        }
      ]
    },
    {
      "cell_type": "markdown",
      "source": [
        "RNN model\n",
        "accuracy:91%"
      ],
      "metadata": {
        "id": "xC7eQFzXjkOA"
      }
    },
    {
      "cell_type": "code",
      "execution_count": null,
      "metadata": {
        "id": "QTFFEk6xAJ99"
      },
      "outputs": [],
      "source": [
        "# Model 2\n",
        "class MyRNN(nn.Module):\n",
        "  def __init__(self, input_size, hidden_size, output_size):\n",
        "    super().__init__()\n",
        "    self.lstm = nn.LSTM(input_size, hidden_size, batch_first = True)\n",
        "\n",
        "    self.fc = nn.Linear(hidden_size, output_size)\n",
        "\n",
        "  def forward(self, x):\n",
        "    out,(h_n, c_n) = self.lstm(x)\n",
        "    out = out[:, -1, :] #就是h_n\n",
        "    out = self.fc(out)\n",
        "    return out\n",
        "\n",
        "model = MyRNN(28, 64, 10)"
      ]
    },
    {
      "cell_type": "code",
      "execution_count": null,
      "metadata": {
        "id": "wTg71OLVKaIO",
        "pycharm": {
          "is_executing": true
        }
      },
      "outputs": [],
      "source": [
        "# Move model to GPU\n",
        "model = model.cuda()"
      ]
    },
    {
      "cell_type": "code",
      "execution_count": null,
      "metadata": {
        "id": "jbGU1OaCAfnE"
      },
      "outputs": [],
      "source": [
        "# Create Mini-batches\n",
        "from torch.utils.data import DataLoader\n",
        "mini_trains = DataLoader(train_data, batch_size=128, shuffle=True)\n",
        "mini_vals = DataLoader(val_data, batch_size=128, shuffle=True)"
      ]
    },
    {
      "cell_type": "code",
      "execution_count": null,
      "metadata": {
        "id": "0SFsOHJABDtM"
      },
      "outputs": [],
      "source": [
        "# Training Procedure\n",
        "def train(num_epoch, model, mini_trains, mini_vals, device, loss_function, optimizer):\n",
        "  for epoch in range(num_epoch):\n",
        "    num_iters = 0\n",
        "    for x, y in mini_trains:\n",
        "      model.train()\n",
        "      x = x.to(device)\n",
        "      y = y.to(device)\n",
        "      x = x.squeeze()\n",
        "      scores = model(x)\n",
        "      loss = loss_function(scores, y)\n",
        "      optimizer.zero_grad()\n",
        "      loss.backward()\n",
        "      optimizer.step()\n",
        "      if num_iters % 10 == 0:\n",
        "        evaluate_predictor(model, epoch, mini_vals, device)\n",
        "      num_iters += 1"
      ]
    },
    {
      "cell_type": "code",
      "execution_count": null,
      "metadata": {
        "id": "AGjktuIUBDvf"
      },
      "outputs": [],
      "source": [
        "# Validating Procedure\n",
        "def evaluate_predictor(model, epoch, mini_vals, device):\n",
        "  model.eval()\n",
        "  with torch.no_grad():\n",
        "    acc_count = 0\n",
        "    for x, y in mini_vals:\n",
        "      x = x.to(device)\n",
        "      y = y.to(device)\n",
        "      x = x.squeeze()\n",
        "      scores=model(x)\n",
        "      predictions=scores.max(1)[1]\n",
        "      acc = predictions.eq(y).sum().item()\n",
        "      acc_count += acc\n",
        "    print(f'Epoch[{epoch+1}] Acc: {acc_count/num_val}')"
      ]
    },
    {
      "cell_type": "code",
      "execution_count": null,
      "metadata": {
        "id": "0V1SD_4pBDyH"
      },
      "outputs": [],
      "source": [
        "# Define loss function & optimizer\n",
        "import torch.optim as optim\n",
        "loss_function = nn.CrossEntropyLoss()\n",
        "optimizer = optim.Adam(model.parameters(), lr=1e-3)"
      ]
    },
    {
      "cell_type": "code",
      "execution_count": null,
      "metadata": {
        "colab": {
          "base_uri": "https://localhost:8080/"
        },
        "id": "syDtanisBD0c",
        "outputId": "be536b74-11c8-48ee-ab0a-c57e6a721d0c",
        "pycharm": {
          "is_executing": true
        }
      },
      "outputs": [
        {
          "output_type": "stream",
          "name": "stdout",
          "text": [
            "Epoch[1] Acc: 0.1014\n",
            "Epoch[1] Acc: 0.0952\n",
            "Epoch[1] Acc: 0.1289\n",
            "Epoch[1] Acc: 0.2285\n",
            "Epoch[1] Acc: 0.304\n",
            "Epoch[1] Acc: 0.3845\n",
            "Epoch[1] Acc: 0.4374\n",
            "Epoch[1] Acc: 0.4911\n",
            "Epoch[1] Acc: 0.5426\n",
            "Epoch[1] Acc: 0.5964\n",
            "Epoch[1] Acc: 0.6227\n",
            "Epoch[1] Acc: 0.6705\n",
            "Epoch[1] Acc: 0.6801\n",
            "Epoch[1] Acc: 0.7082\n",
            "Epoch[1] Acc: 0.7492\n",
            "Epoch[1] Acc: 0.746\n",
            "Epoch[1] Acc: 0.7773\n",
            "Epoch[1] Acc: 0.7838\n",
            "Epoch[1] Acc: 0.8005\n",
            "Epoch[1] Acc: 0.7925\n",
            "Epoch[1] Acc: 0.8274\n",
            "Epoch[1] Acc: 0.8162\n",
            "Epoch[1] Acc: 0.8111\n",
            "Epoch[1] Acc: 0.838\n",
            "Epoch[1] Acc: 0.8478\n",
            "Epoch[1] Acc: 0.8499\n",
            "Epoch[1] Acc: 0.8537\n",
            "Epoch[1] Acc: 0.8751\n",
            "Epoch[1] Acc: 0.8639\n",
            "Epoch[1] Acc: 0.8671\n",
            "Epoch[1] Acc: 0.8763\n",
            "Epoch[1] Acc: 0.8727\n",
            "Epoch[1] Acc: 0.8702\n",
            "Epoch[1] Acc: 0.8691\n",
            "Epoch[1] Acc: 0.8737\n",
            "Epoch[1] Acc: 0.8891\n",
            "Epoch[1] Acc: 0.8859\n",
            "Epoch[1] Acc: 0.8894\n",
            "Epoch[1] Acc: 0.8862\n",
            "Epoch[1] Acc: 0.9062\n",
            "Epoch[1] Acc: 0.8979\n",
            "Epoch[1] Acc: 0.9026\n",
            "Epoch[1] Acc: 0.8994\n",
            "Epoch[1] Acc: 0.9132\n",
            "Epoch[1] Acc: 0.9075\n",
            "Epoch[1] Acc: 0.9102\n",
            "Epoch[1] Acc: 0.9068\n"
          ]
        }
      ],
      "source": [
        "# Start training\n",
        "train(1, model, mini_trains, mini_vals, device, loss_function, optimizer)"
      ]
    }
  ],
  "metadata": {
    "accelerator": "GPU",
    "colab": {
      "provenance": [],
      "include_colab_link": true
    },
    "gpuClass": "standard",
    "kernelspec": {
      "display_name": "Python 3",
      "language": "python",
      "name": "python3"
    },
    "language_info": {
      "codemirror_mode": {
        "name": "ipython",
        "version": 3
      },
      "file_extension": ".py",
      "mimetype": "text/x-python",
      "name": "python",
      "nbconvert_exporter": "python",
      "pygments_lexer": "ipython3",
      "version": "3.8.5"
    }
  },
  "nbformat": 4,
  "nbformat_minor": 0
}